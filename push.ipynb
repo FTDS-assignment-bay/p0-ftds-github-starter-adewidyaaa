{
 "cells": [
  {
   "cell_type": "code",
   "execution_count": 1,
   "id": "7a182370",
   "metadata": {},
   "outputs": [
    {
     "data": {
      "text/plain": [
       "4"
      ]
     },
     "execution_count": 1,
     "metadata": {},
     "output_type": "execute_result"
    }
   ],
   "source": [
    "2*2\n"
   ]
  },
  {
   "cell_type": "code",
   "execution_count": 2,
   "id": "8b55b45e",
   "metadata": {},
   "outputs": [],
   "source": [
    "# Push Yuk "
   ]
  },
  {
   "cell_type": "markdown",
   "id": "3d362b3a",
   "metadata": {},
   "source": [
    "# Push Yuk"
   ]
  },
  {
   "cell_type": "code",
   "execution_count": null,
   "id": "4a1f6860",
   "metadata": {},
   "outputs": [],
   "source": [
    "1. `git clone` -> untuk mendownload repo tugas (link SSH)\n",
    "2. `cd <ke repo lokal>` -> untuk pindah folder ke repo lokal (diambil dari ls dulu : p0-ftds-github-starter-adewidyaaa )\n",
    "3. Buat file assignment atau pindahkan assignment ke repo lokal (push.ipynb drag ke p0-ftds....) statusnya emg Untracked\n",
    "\n",
    "\n",
    "4. `git status` -> untuk cek file baru di repo lokal (harusnya warna merah)\n",
    "5. `git add .` -> untuk memasukkan file baru tsb ke stage mode (ke staging dulu) (kalo mau semua file bisa git add . tp kalo mau salah 1 pilih git add namanya)\n",
    "6. `git status` -> untuk cek file baru tsb yang sudah ada si dtage mode (harusnya warna hijau)\n",
    "7. `git commit -m <messagenya apa?>` -> untuk memberi keterangan push\n",
    "8. `git push` -> untuk 'upload' file ke repository gitclassroom.\n",
    "9. Cek lagi file di repo git, sudah sesuai dgn yg kita buat atau belum?\n",
    "10. Gunakan git checkout <code version>\n",
    "11. Gunakan \n"
   ]
  },
  {
   "cell_type": "markdown",
   "id": "46dd5571",
   "metadata": {},
   "source": [
    "# header\n",
    "## subheader\n",
    "### sub subheader"
   ]
  },
  {
   "cell_type": "markdown",
   "id": "e7eeec22",
   "metadata": {},
   "source": [
    "#### cara agar enter baris baru, bukan lanjut 1 baris\n",
    "Nama : ade<br/>\n",
    "Batch : 047  \n",
    "day : 1\n",
    "day :2\n",
    "\n",
    "\n",
    "problem : enter tp bukan terenter"
   ]
  },
  {
   "cell_type": "code",
   "execution_count": null,
   "id": "77183945",
   "metadata": {},
   "outputs": [],
   "source": []
  },
  {
   "cell_type": "markdown",
   "id": "6354ec97",
   "metadata": {},
   "source": [
    "`*...*` -> *italic*\n",
    "`**...**` -> **bold**. \n",
    "`***...***` -> ***bold italic***\n",
    "`` -> petik untuk syntax/rumus\n",
    "'' -> single string/kutip\n",
    "\"\" -> double string/kutip\n",
    "~ -> tilde"
   ]
  },
  {
   "cell_type": "markdown",
   "id": "f15ea726",
   "metadata": {},
   "source": [
    "rumus bisa pakai simbol dolar\n",
    "\n",
    "y = 2x^2 +5 (tanpa simbol $)\n",
    "\n"
   ]
  },
  {
   "cell_type": "markdown",
   "id": "a2b97ed4",
   "metadata": {},
   "source": [
    "### fungsi petik\n",
    "\n",
    "mau taruh syntax sql di markdown dokumentasi :\n",
    "\n",
    "```sql\n",
    "SELECT * FROM TABLE_A\n",
    "WHERE kota = 'jkt'\n",
    "ORDER BY age\n",
    "```\n",
    "\n",
    "contoh :\n",
    "```py\n",
    "def rumus _luas(p,l):\n",
    "return p*l\n",
    "```\n",
    "\n",
    "$$end$$\n",
    "___"
   ]
  }
 ],
 "metadata": {
  "kernelspec": {
   "display_name": "base",
   "language": "python",
   "name": "python3"
  },
  "language_info": {
   "codemirror_mode": {
    "name": "ipython",
    "version": 3
   },
   "file_extension": ".py",
   "mimetype": "text/x-python",
   "name": "python",
   "nbconvert_exporter": "python",
   "pygments_lexer": "ipython3",
   "version": "3.13.5"
  }
 },
 "nbformat": 4,
 "nbformat_minor": 5
}
